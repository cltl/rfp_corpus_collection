{
 "cells": [
  {
   "cell_type": "markdown",
   "id": "85a138da-d895-4408-aa7d-8a7400510a88",
   "metadata": {},
   "source": [
    "# Data demo\n",
    "\n",
    "* How to load the texts\n",
    "* How to load annotations\n",
    "* Example analysis"
   ]
  },
  {
   "cell_type": "code",
   "execution_count": 1,
   "id": "de6d73fd-0e92-44f9-ba27-b8632a1cb2f0",
   "metadata": {},
   "outputs": [],
   "source": [
    "import json\n",
    "import glob"
   ]
  },
  {
   "cell_type": "markdown",
   "id": "ebee70e5-f0c9-45c5-9687-d297c144e8af",
   "metadata": {},
   "source": [
    "## Human-annotated data"
   ]
  },
  {
   "cell_type": "code",
   "execution_count": 2,
   "id": "43ccb2f9-6043-4b4d-9f2c-7dec1b3849f5",
   "metadata": {},
   "outputs": [
    {
     "name": "stdout",
     "output_type": "stream",
     "text": [
      "42\n",
      "['corpus_gold/Eurovision_Song_Contest_2020/texts/en/Q30973589-234.json', 'corpus_gold/Eurovision_Song_Contest_2020/texts/en/Q30973589-25.json', 'corpus_gold/Eurovision_Song_Contest_2020/texts/en/Q30973589-259.json']\n"
     ]
    }
   ],
   "source": [
    "# texts\n",
    "path_gold = 'corpus_gold/'\n",
    "event = 'Eurovision_Song_Contest_2020'\n",
    "gold_2020_en_texts = glob.glob(f'{path_gold}{event}/texts/en/*.json')\n",
    "print(len(gold_2020_en_texts))\n",
    "print(gold_2020_en_texts[:3])"
   ]
  },
  {
   "cell_type": "code",
   "execution_count": 3,
   "id": "6f0e8483-ab91-471b-9e58-7f9f19036f6f",
   "metadata": {},
   "outputs": [],
   "source": [
    "# wikidata info\n",
    "gold_2020_wiki = f'{path_gold}{event}/wikidata.json'\n",
    "with open(gold_2020_wiki) as infile:\n",
    "    d_wiki = json.load(infile)"
   ]
  },
  {
   "cell_type": "code",
   "execution_count": 21,
   "id": "7ff427c6-1649-4565-9ff3-4a0bdd60a3ea",
   "metadata": {},
   "outputs": [
    {
     "data": {
      "text/plain": [
       "'Q30973589'"
      ]
     },
     "execution_count": 21,
     "metadata": {},
     "output_type": "execute_result"
    }
   ],
   "source": [
    "# event q number wikidata:\n",
    "event_q = d_wiki['wikidata_q']\n",
    "event_q"
   ]
  },
  {
   "cell_type": "code",
   "execution_count": 4,
   "id": "556d8e48-a1e7-458c-97e5-6dcd99d985e2",
   "metadata": {},
   "outputs": [
    {
     "name": "stdout",
     "output_type": "stream",
     "text": [
      "42\n"
     ]
    }
   ],
   "source": [
    "print(len(d_wiki['documents']['en']))"
   ]
  },
  {
   "cell_type": "code",
   "execution_count": 5,
   "id": "28e75ed2-0667-4751-aa5f-491ae0880504",
   "metadata": {},
   "outputs": [],
   "source": [
    "# example text\n",
    "\n",
    "example_text = gold_2020_en_texts[5]\n",
    "\n",
    "with open(example_text) as infile:\n",
    "    text_d = json.load(infile)"
   ]
  },
  {
   "cell_type": "code",
   "execution_count": 6,
   "id": "dccdddac-37b6-46b7-96fd-38c73411b4f6",
   "metadata": {},
   "outputs": [
    {
     "data": {
      "text/plain": [
       "'Aksel Kankaanranta will represent Finland at the Eurovision Song Contest 2020'"
      ]
     },
     "execution_count": 6,
     "metadata": {},
     "output_type": "execute_result"
    }
   ],
   "source": [
    "text_d['title']"
   ]
  },
  {
   "cell_type": "code",
   "execution_count": 7,
   "id": "1594ce11-e051-4ae8-9037-90bcce4125db",
   "metadata": {},
   "outputs": [
    {
     "name": "stdout",
     "output_type": "stream",
     "text": [
      "Aksel Kankaanranta will represent Finland at the Eurovision Song Contest 2020.\n",
      "\n",
      "Aksel Kankaanranta has won the Contest for New Music UMK with the song Looking Back, and will represent Finland at the Eurovision Song Contest in Rotterdam in May 2020. UMK 2021 will also be held as an open contest. The \n"
     ]
    }
   ],
   "source": [
    "print(text_d['text'][:300])"
   ]
  },
  {
   "cell_type": "markdown",
   "id": "76ab2eca-95a2-4f90-a1e2-81728902c51e",
   "metadata": {},
   "source": [
    "### Human and automatic frame annotation\n",
    "\n",
    "The data have been annotated for semantic roles by human annotators on top of automatic SRL annotation (open sesame). "
   ]
  },
  {
   "cell_type": "code",
   "execution_count": 8,
   "id": "2bdf643c-07d3-4b24-920b-5c1bdc10f7e0",
   "metadata": {},
   "outputs": [],
   "source": [
    "# SRL annotation\n",
    "\n",
    "srl = text_d['srl']\n",
    "#srl"
   ]
  },
  {
   "cell_type": "code",
   "execution_count": 18,
   "id": "10031fa6-92ff-433f-9ca7-0c76c5e07c7f",
   "metadata": {},
   "outputs": [
    {
     "name": "stdout",
     "output_type": "stream",
     "text": [
      "Frame http://premon.fbk.eu/resource/fn17-finish_game\n",
      "NGZZOnuEsmEAa27KU3IFN-54m58WqHVh\n",
      "won\n",
      "http://premon.fbk.eu/resource/fn17-finish_game@game Contest\n",
      "http://premon.fbk.eu/resource/fn17-finish_game@player Aksel\n",
      "\n"
     ]
    }
   ],
   "source": [
    "for pred_role_d in srl:\n",
    "    print('Frame', pred_role_d['frame'])\n",
    "    print(pred_role_d['source'])\n",
    "    for tok in pred_role_d['predicate']['token_text']:\n",
    "        print(tok.strip())\n",
    "    for role in pred_role_d['roles']:\n",
    "        role_name = role['role']\n",
    "        if role['token_text']:\n",
    "            for tok in role['token_text']:\n",
    "                print(role_name, tok.strip())\n",
    "    print()\n",
    "    break"
   ]
  },
  {
   "cell_type": "code",
   "execution_count": 24,
   "id": "7894ebc7-4b65-4012-80a9-a5df4be04580",
   "metadata": {},
   "outputs": [
    {
     "name": "stdout",
     "output_type": "stream",
     "text": [
      "Q30973589 Q83402937 \n",
      "Q30973589 Q30973589 event-ref\n",
      "{'coref_text': {'\\nEurovision\\n': [[34]], '\\nSong\\n': [[35]], '\\nContest\\n': [[36]], '\\nin\\n': [[37]], '\\nRotterdam\\n': [[38]]}, 'coref_type': 'event', 'reference': 'Q30973589'}\n",
      "Q30973589 Q83402937 \n",
      "Q30973589 Q30973589 event-ref\n",
      "{'coref_text': {'\\nthe\\n': [[236]], '\\nEurovision\\n': [[237]], '\\nSong\\n': [[238]], '\\nContest\\n': [[239]]}, 'coref_type': 'event', 'reference': 'Q30973589'}\n",
      "Q30973589 Q83402937 \n",
      "Q30973589 Q30973589 event-ref\n",
      "{'coref_text': {'\\nthe\\n': [[332]], '\\nEurovision\\n': [[333]], '\\nSong\\n': [[334]], '\\nContest\\n': [[335]]}, 'coref_type': 'event', 'reference': 'Q30973589'}\n",
      "Q30973589 Q83402937 \n"
     ]
    }
   ],
   "source": [
    "# coref annotation\n",
    "coref = text_d['coref']\n",
    "\n",
    "for chain in coref:\n",
    "    reference = chain['reference']\n",
    "    if event_q == reference:\n",
    "        event_ref = 'event-ref'\n",
    "    else:\n",
    "        event_ref = ''\n",
    "    \n",
    "    print(event_q, reference, event_ref)\n",
    "    if event_ref != '':\n",
    "        print(chain)\n",
    "    "
   ]
  },
  {
   "cell_type": "code",
   "execution_count": null,
   "id": "f20932b0-9964-4967-ab09-73a34f7f6e80",
   "metadata": {},
   "outputs": [],
   "source": []
  }
 ],
 "metadata": {
  "kernelspec": {
   "display_name": "Python 3 (ipykernel)",
   "language": "python",
   "name": "python3"
  },
  "language_info": {
   "codemirror_mode": {
    "name": "ipython",
    "version": 3
   },
   "file_extension": ".py",
   "mimetype": "text/x-python",
   "name": "python",
   "nbconvert_exporter": "python",
   "pygments_lexer": "ipython3",
   "version": "3.9.13"
  }
 },
 "nbformat": 4,
 "nbformat_minor": 5
}
