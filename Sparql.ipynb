{
 "cells": [
  {
   "cell_type": "code",
   "execution_count": 3,
   "id": "98535937-1768-4d39-a70c-5ebb036302eb",
   "metadata": {},
   "outputs": [],
   "source": [
    "import sys\n",
    "import pandas as pd\n",
    "from typing import List, Dict\n",
    "from SPARQLWrapper import SPARQLWrapper, JSON"
   ]
  },
  {
   "cell_type": "code",
   "execution_count": 29,
   "id": "c831801d-df38-4148-837e-d8b4e22f5118",
   "metadata": {},
   "outputs": [],
   "source": [
    "# works for diseases\n",
    "query = \"\"\"\n",
    "SELECT ?person ?prop ?disease\n",
    "WHERE\n",
    "{\n",
    "?person ?prop ?disease .\n",
    "?person wdt:P31 wd:Q5 .\n",
    "      ?disease wdt:P31 wd:Q18123741  #infectious disease\n",
    "SERVICE wikibase:label { bd:serviceParam wikibase:language \"[AUTO_LANGUAGE],en\" }\n",
    "}\"\"\""
   ]
  },
  {
   "cell_type": "code",
   "execution_count": 70,
   "id": "8fe67a37-9399-40e5-b03a-7cdb9d14b64d",
   "metadata": {},
   "outputs": [],
   "source": [
    "# Works for finding all eurovision events\n",
    "query = \"\"\"\n",
    "SELECT ?person ?prop ?event\n",
    "WHERE\n",
    "{\n",
    "?person ?prop ?event .\n",
    "?person wdt:P31 wd:Q5 .\n",
    "      ?event wdt:P31 wd:Q110288240 #eurovision\n",
    "SERVICE wikibase:label { bd:serviceParam wikibase:language \"[AUTO_LANGUAGE],en\" }\n",
    "}\"\"\""
   ]
  },
  {
   "cell_type": "code",
   "execution_count": 68,
   "id": "b51ab54e-c04a-4349-a64c-676d481ace85",
   "metadata": {},
   "outputs": [],
   "source": [
    "# query = \"\"\"\n",
    "# SELECT ?person ?event\n",
    "# WHERE\n",
    "# {\n",
    "# ?person p:P31 ?node.\n",
    "# ?node ps:P31 wd:Q10146).\n",
    "# SERVICE wikibase:label { bd:serviceParam wikibase:language \"[AUTO_LANGUAGE],en\" }\n",
    "# }\"\"\""
   ]
  },
  {
   "cell_type": "code",
   "execution_count": 71,
   "id": "235783a6-f0a4-426e-8d49-4ecae0359dc6",
   "metadata": {},
   "outputs": [],
   "source": [
    "sparql = SPARQLWrapper(\"https://query.wikidata.org/sparql\")"
   ]
  },
  {
   "cell_type": "code",
   "execution_count": 72,
   "id": "fe739f38-418c-40b8-9c60-0ff243edc1d9",
   "metadata": {},
   "outputs": [],
   "source": [
    "sparql.setQuery(query)\n",
    "sparql.setReturnFormat(JSON)\n",
    "results = sparql.query().convert()"
   ]
  },
  {
   "cell_type": "code",
   "execution_count": 91,
   "id": "40c5b19a-a76e-4800-8acd-4cd0c141a20e",
   "metadata": {},
   "outputs": [],
   "source": [
    "target_q = 'Q50729731'\n",
    "participants = []\n",
    "res_list = results['results']['bindings']\n",
    "for res in res_list:\n",
    "    event_url = res['event']['value']\n",
    "    q_id = event_url.split('/')[-1]\n",
    "    if target_q == q_id:\n",
    "        person_url = res['person']['value']\n",
    "        person_q = person_url.split('/')[-1]\n",
    "        participants.append(person_q)\n"
   ]
  },
  {
   "cell_type": "code",
   "execution_count": 93,
   "id": "29f6d6f3-1c51-4776-8e92-055f6199d106",
   "metadata": {},
   "outputs": [],
   "source": [
    "with open('Eurovision_21_participants.txt', 'w') as outfile:\n",
    "    for q in participants:\n",
    "        outfile.write(q+'\\n')"
   ]
  },
  {
   "cell_type": "code",
   "execution_count": null,
   "id": "61731f66-6dcd-4b50-8f7f-44a2d62cce30",
   "metadata": {},
   "outputs": [],
   "source": []
  }
 ],
 "metadata": {
  "kernelspec": {
   "display_name": "Python 3 (ipykernel)",
   "language": "python",
   "name": "python3"
  },
  "language_info": {
   "codemirror_mode": {
    "name": "ipython",
    "version": 3
   },
   "file_extension": ".py",
   "mimetype": "text/x-python",
   "name": "python",
   "nbconvert_exporter": "python",
   "pygments_lexer": "ipython3",
   "version": "3.9.13"
  }
 },
 "nbformat": 4,
 "nbformat_minor": 5
}
